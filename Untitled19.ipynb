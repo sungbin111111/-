{
  "nbformat": 4,
  "nbformat_minor": 0,
  "metadata": {
    "colab": {
      "name": "Untitled19.ipynb",
      "provenance": [],
      "authorship_tag": "ABX9TyOHsrAuH9eM3jc3WgmhbeYU",
      "include_colab_link": true
    },
    "kernelspec": {
      "name": "python3",
      "display_name": "Python 3"
    },
    "language_info": {
      "name": "python"
    }
  },
  "cells": [
    {
      "cell_type": "markdown",
      "metadata": {
        "id": "view-in-github",
        "colab_type": "text"
      },
      "source": [
        "<a href=\"https://colab.research.google.com/github/sungbin111111/-/blob/circleci-project-setup/Untitled19.ipynb\" target=\"_parent\"><img src=\"https://colab.research.google.com/assets/colab-badge.svg\" alt=\"Open In Colab\"/></a>"
      ]
    },
    {
      "cell_type": "code",
      "execution_count": null,
      "metadata": {
        "colab": {
          "base_uri": "https://localhost:8080/"
        },
        "id": "sP9n3UUlUvhT",
        "outputId": "f04124aa-cbc9-4ede-bd8a-95385460a404"
      },
      "outputs": [
        {
          "output_type": "execute_result",
          "data": {
            "text/plain": [
              "500000"
            ]
          },
          "metadata": {},
          "execution_count": 25
        }
      ],
      "source": [
        "samsung = 50000\n",
        "samsung*=10\n",
        "samsung"
      ]
    },
    {
      "cell_type": "code",
      "source": [
        "year = \"2020\"\n",
        "int(year)\n",
        "print(int(year)-1)\n",
        "print(int(year)-2)\n",
        "print(int(year)-3)"
      ],
      "metadata": {
        "colab": {
          "base_uri": "https://localhost:8080/"
        },
        "id": "0nodF77YVbA1",
        "outputId": "d44d9e2d-49f0-493a-b028-96b3cf4cd433"
      },
      "execution_count": null,
      "outputs": [
        {
          "output_type": "stream",
          "name": "stdout",
          "text": [
            "2019\n",
            "2018\n",
            "2017\n"
          ]
        }
      ]
    },
    {
      "cell_type": "code",
      "source": [
        "string = \"홀짝홀짝홀짝\"\n",
        "string[0]"
      ],
      "metadata": {
        "colab": {
          "base_uri": "https://localhost:8080/",
          "height": 35
        },
        "id": "nbL_JCz_X_jt",
        "outputId": "028d1e63-625d-4178-ee87-cbdbd890af4b"
      },
      "execution_count": null,
      "outputs": [
        {
          "output_type": "execute_result",
          "data": {
            "text/plain": [
              "'홀'"
            ],
            "application/vnd.google.colaboratory.intrinsic+json": {
              "type": "string"
            }
          },
          "metadata": {},
          "execution_count": 28
        }
      ]
    },
    {
      "cell_type": "code",
      "source": [
        "n1 = \"python\"\n",
        "r1 = ''\n",
        "for c in n1:r1 = c + r1\n",
        "f'name : {n1}'\n",
        "print(f'reverse : {r1}')"
      ],
      "metadata": {
        "colab": {
          "base_uri": "https://localhost:8080/"
        },
        "id": "3YtTFnINc_fP",
        "outputId": "408b5a35-ece5-4783-bedc-8a7d7e6d69e8"
      },
      "execution_count": null,
      "outputs": [
        {
          "output_type": "stream",
          "name": "stdout",
          "text": [
            "reverse : nohtyp\n"
          ]
        }
      ]
    },
    {
      "cell_type": "code",
      "source": [
        "movie_rank = ['닥터스트레인지', '슾플릿', '럭키', '배트맨']\n",
        "movie_rank.insert(1,\"슈퍼맨\")\n",
        "movie_rank"
      ],
      "metadata": {
        "colab": {
          "base_uri": "https://localhost:8080/"
        },
        "id": "s6OMnMuTe70N",
        "outputId": "52104bc8-bcd0-40f3-e567-f0ade6974b6b"
      },
      "execution_count": null,
      "outputs": [
        {
          "output_type": "execute_result",
          "data": {
            "text/plain": [
              "['닥터스트레인지', '슈퍼맨', '슾플릿', '럭키', '배트맨']"
            ]
          },
          "metadata": {},
          "execution_count": 79
        }
      ]
    },
    {
      "cell_type": "code",
      "source": [
        "nums = [1,2,3,4,5,6,7,8,9,10]\n",
        "nums.remove(2)\n",
        "nums.remove(4)\n",
        "nums.remove(6)\n",
        "nums.remove(8)\n",
        "nums.remove(10)\n",
        "nums"
      ],
      "metadata": {
        "colab": {
          "base_uri": "https://localhost:8080/"
        },
        "id": "kA68QY5pg3HC",
        "outputId": "f3402e5f-5a8f-47ef-c0e6-973a85c8f2c5"
      },
      "execution_count": null,
      "outputs": [
        {
          "output_type": "execute_result",
          "data": {
            "text/plain": [
              "[1, 3, 5, 7, 9]"
            ]
          },
          "metadata": {},
          "execution_count": 85
        }
      ]
    },
    {
      "cell_type": "code",
      "source": [
        "data = [2,4,3,1,5,10,9]\n",
        "data.sort()\n",
        "data"
      ],
      "metadata": {
        "colab": {
          "base_uri": "https://localhost:8080/"
        },
        "id": "SIzkm_vNjd1f",
        "outputId": "31051445-9a73-4af0-bdbe-32714b9315af"
      },
      "execution_count": null,
      "outputs": [
        {
          "output_type": "execute_result",
          "data": {
            "text/plain": [
              "[1, 2, 3, 4, 5, 9, 10]"
            ]
          },
          "metadata": {},
          "execution_count": 87
        }
      ]
    },
    {
      "cell_type": "code",
      "source": [
        "name1 = \"김민수\"\n",
        "age1 = 10\n",
        "name2 = \"이철희\"\n",
        "age2 = 13\n",
        "a='이름: {} 나이: {}'\n",
        "b='이름: {} 나이: {}'\n",
        "print(a.format(name1,age1))\n",
        "print(b.format(name2,age2))"
      ],
      "metadata": {
        "colab": {
          "base_uri": "https://localhost:8080/"
        },
        "id": "pzrVF7bCkSWy",
        "outputId": "0e227cb6-0ba7-4856-b7e9-a3da5248ae59"
      },
      "execution_count": null,
      "outputs": [
        {
          "output_type": "stream",
          "name": "stdout",
          "text": [
            "이름: 김민수 나이: 10\n",
            "이름: 이철희 나이: 13\n"
          ]
        }
      ]
    }
  ]
}